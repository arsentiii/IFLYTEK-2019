{
 "cells": [
  {
   "cell_type": "code",
   "execution_count": null,
   "metadata": {
    "ExecuteTime": {
     "end_time": "2019-07-08T00:37:51.592847Z",
     "start_time": "2019-07-08T00:37:49.741572Z"
    }
   },
   "outputs": [],
   "source": [
    "# 导入基本库\n",
    "import warnings\n",
    "import numpy as np\n",
    "import pandas as pd\n",
    "import seaborn as sns\n",
    "import matplotlib.pyplot as plt\n",
    "\n",
    "pd.set_option('display.width', 10000)\n",
    "pd.set_option('display.max_columns',10000)\n",
    "pd.set_option('display.max_rows',10000)\n",
    "\n",
    "plt.style.use(\"bmh\")\n",
    "plt.rc('font', family='MicroSoft YaHei', size=13)\n",
    "\n",
    "warnings.filterwarnings('ignore')"
   ]
  },
  {
   "cell_type": "code",
   "execution_count": null,
   "metadata": {
    "ExecuteTime": {
     "end_time": "2019-07-08T00:38:05.024610Z",
     "start_time": "2019-07-08T00:37:51.599861Z"
    }
   },
   "outputs": [],
   "source": [
    "# 导入数据\n",
    "data_path = '../移动广告反欺诈算法挑战赛/'\n",
    "\n",
    "test_df = pd.read_csv(data_path + 'round1_iflyad_anticheat_testdata_feature.txt', delimiter=\"\\t\")\n",
    "train_df = pd.read_csv(data_path + 'round1_iflyad_anticheat_traindata.txt', delimiter=\"\\t\")\n",
    "\n",
    "df_data = pd.concat([train_df, test_df], axis=0)\n",
    "df_data.head(5)"
   ]
  },
  {
   "cell_type": "code",
   "execution_count": null,
   "metadata": {},
   "outputs": [],
   "source": [
    "train_df.shape[0], test_df.shape[0]"
   ]
  },
  {
   "cell_type": "code",
   "execution_count": null,
   "metadata": {
    "ExecuteTime": {
     "end_time": "2019-07-08T00:38:05.070275Z",
     "start_time": "2019-07-08T00:38:05.030171Z"
    }
   },
   "outputs": [],
   "source": [
    "# 查看label分布情况\n",
    "train_df['label'].value_counts()"
   ]
  },
  {
   "cell_type": "code",
   "execution_count": null,
   "metadata": {
    "ExecuteTime": {
     "end_time": "2019-07-08T00:38:07.655365Z",
     "start_time": "2019-07-08T00:38:05.075864Z"
    }
   },
   "outputs": [],
   "source": [
    "# data attribute\n",
    "df_data.info()"
   ]
  },
  {
   "cell_type": "code",
   "execution_count": null,
   "metadata": {
    "ExecuteTime": {
     "end_time": "2019-07-08T00:38:16.709889Z",
     "start_time": "2019-07-08T00:38:07.658610Z"
    }
   },
   "outputs": [],
   "source": [
    "for i,name in enumerate(df_data.columns):\n",
    "    name_sum = df_data[name].value_counts().shape[0]\n",
    "    print(\"{:2}、{:15}      The number of types of features is：{}\".format(i + 1, name, name_sum))"
   ]
  },
  {
   "cell_type": "code",
   "execution_count": null,
   "metadata": {
    "ExecuteTime": {
     "end_time": "2019-07-08T00:38:35.545847Z",
     "start_time": "2019-07-08T00:38:18.678302Z"
    }
   },
   "outputs": [],
   "source": [
    "from sklearn.preprocessing import LabelEncoder\n",
    "\n",
    "\n",
    "object_cols = list(df_data.dtypes[df_data.dtypes==np.object].index)\n",
    "for col in object_cols:\n",
    "    if col!='sid':\n",
    "        lab = LabelEncoder()\n",
    "        df_data[col] = lab.fit_transform(df_data[col].astype(str))"
   ]
  },
  {
   "cell_type": "code",
   "execution_count": null,
   "metadata": {
    "ExecuteTime": {
     "end_time": "2019-07-08T00:38:35.909695Z",
     "start_time": "2019-07-08T00:38:35.548015Z"
    }
   },
   "outputs": [],
   "source": [
    "drop_list = ['sid', 'label', 'nginxtime', 'ip', 'macmd5', 'imeimd5', 'adidmd5']\n",
    "\n",
    "train_data = df_data.loc[:train_df.shape[0]-1]\n",
    "test_data = df_data.loc[train_df.shape[0]:]\n",
    "\n",
    "train_label = train_data['label']\n",
    "train_fea = train_data.drop(drop_list, axis=1)\n",
    "\n",
    "result_df = pd.DataFrame()\n",
    "result_df['sid'] = test_data['sid']\n",
    "test_fea = test_data.drop(drop_list, axis=1)"
   ]
  },
  {
   "cell_type": "code",
   "execution_count": null,
   "metadata": {
    "ExecuteTime": {
     "end_time": "2019-07-08T00:38:35.916909Z",
     "start_time": "2019-07-08T00:38:35.911960Z"
    }
   },
   "outputs": [],
   "source": [
    "lgb_param = {\n",
    "    'learning_rate': 0.01,\n",
    "    'boosting_type': 'gbdt',\n",
    "    'objective': 'binary',\n",
    "    'metric': 'auc',\n",
    "    'feature_fraction': 0.6,\n",
    "    'bagging_fraction': 0.8,\n",
    "    'bagging_freq': 5,\n",
    "    'num_leaves': 1000,\n",
    "    'verbose': -1,\n",
    "    'max_depth': -1,\n",
    "    'seed':2019,\n",
    "}"
   ]
  },
  {
   "cell_type": "code",
   "execution_count": null,
   "metadata": {
    "ExecuteTime": {
     "end_time": "2019-07-08T03:26:28.053345Z",
     "start_time": "2019-07-08T00:38:35.920858Z"
    }
   },
   "outputs": [],
   "source": [
    "import lightgbm as lgb\n",
    "from sklearn.metrics import f1_score, roc_auc_score\n",
    "from sklearn.model_selection import KFold, StratifiedKFold\n",
    "\n",
    "\n",
    "def eval_func(y_pred, train_data):\n",
    "    y_true = train_data.get_label()\n",
    "    score = f1_score(y_true, np.round(y_pred))\n",
    "    return 'f1', score, True\n",
    "\n",
    "fold = 5\n",
    "skf = StratifiedKFold(n_splits=fold, shuffle=True, random_state=2019)\n",
    "\n",
    "\n",
    "oof_lgb = np.zeros(train_fea.shape[0])\n",
    "prediction_lgb=np.zeros(test_fea.shape[0])\n",
    "\n",
    "for i, (train_index, test_index) in enumerate(skf.split(train_fea, train_label)):\n",
    "    print('fold:', i+1)\n",
    "    \n",
    "    X_train, X_valid = train_fea.loc[train_index], train_fea.loc[test_index]\n",
    "    y_train, y_vaild = train_label.loc[train_index], train_label.loc[test_index]\n",
    "    \n",
    "    lgb_train = lgb.Dataset(X_train, y_train)\n",
    "    lgb_valid = lgb.Dataset(X_valid, y_vaild, reference=lgb_train)\n",
    "    \n",
    "    lgb_model = lgb.train(lgb_param, lgb_train, num_boost_round=40000, valid_sets=[lgb_train, lgb_valid], \n",
    "                      valid_names = ['train', 'valid'], feval=eval_func, early_stopping_rounds=200, verbose_eval=100)\n",
    "\n",
    "    \n",
    "    oof_lgb[test_index] += lgb_model.predict(train_fea.loc[test_index], num_iteration=lgb_model.best_iteration)\n",
    "    prediction_lgb += lgb_model.predict(test_fea, num_iteration=lgb_model.best_iteration)\n",
    "    \n",
    "    dis_df = test_df[['sid']]\n",
    "    dis_df['label'] = prediction_lgb\n",
    "    \n",
    "    dis_df['label'] = dis_df['label'].apply(lambda x: 1 if x/(i+1) > 0.5 else 0) \n",
    "    print('****************************************************************************************************')\n",
    "    print('information of fold {}'.format(str(i+1))\n",
    "    print('roc_auc_score: ', roc_auc_score(train_label.loc[index_record], oof_lgb[index_record])) \n",
    "    print('f1_score: ' ,f1_score(train_label.loc[index_record], np.round(oof_lgb[index_record])))\n",
    "    print('label distribution:', dis_df['label'].value_counts()) \n",
    "    print('====================================================================================================')"
   ]
  },
  {
   "cell_type": "code",
   "execution_count": null,
   "metadata": {
    "ExecuteTime": {
     "end_time": "2019-07-08T03:42:50.156468Z",
     "start_time": "2019-07-08T03:42:49.843128Z"
    }
   },
   "outputs": [],
   "source": [
    "# write to csv\n",
    "sub = test_df[['sid']]\n",
    "sub['label'] = prediction_lgb / 5\n",
    "sub['label'] = sub['label'].apply(lambda x: 1 if x > 0.5 else 0) \n",
    "sub.to_csv('baseline.csv', index=None) "
   ]
  },
  {
   "cell_type": "code",
   "execution_count": null,
   "metadata": {
    "ExecuteTime": {
     "end_time": "2019-07-07T02:25:04.815450Z",
     "start_time": "2019-07-07T02:25:04.811064Z"
    }
   },
   "outputs": [],
   "source": []
  },
  {
   "cell_type": "code",
   "execution_count": null,
   "metadata": {},
   "outputs": [],
   "source": []
  }
 ],
 "metadata": {
  "kernelspec": {
   "display_name": "Python 3",
   "language": "python",
   "name": "python3"
  },
  "language_info": {
   "codemirror_mode": {
    "name": "ipython",
    "version": 3
   },
   "file_extension": ".py",
   "mimetype": "text/x-python",
   "name": "python",
   "nbconvert_exporter": "python",
   "pygments_lexer": "ipython3",
   "version": "3.7.3"
  },
  "latex_envs": {
   "LaTeX_envs_menu_present": true,
   "autoclose": false,
   "autocomplete": true,
   "bibliofile": "biblio.bib",
   "cite_by": "apalike",
   "current_citInitial": 1,
   "eqLabelWithNumbers": true,
   "eqNumInitial": 1,
   "hotkeys": {
    "equation": "Ctrl-E",
    "itemize": "Ctrl-I"
   },
   "labels_anchors": false,
   "latex_user_defs": false,
   "report_style_numbering": false,
   "user_envs_cfg": false
  },
  "nbTranslate": {
   "displayLangs": [
    "*"
   ],
   "hotkey": "alt-t",
   "langInMainMenu": true,
   "sourceLang": "en",
   "targetLang": "fr",
   "useGoogleTranslate": true
  }
 },
 "nbformat": 4,
 "nbformat_minor": 2
}
